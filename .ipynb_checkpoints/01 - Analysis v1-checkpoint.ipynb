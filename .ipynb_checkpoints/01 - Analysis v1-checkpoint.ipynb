{
 "cells": [
  {
   "cell_type": "code",
   "execution_count": 1,
   "id": "e5239e44",
   "metadata": {},
   "outputs": [],
   "source": [
    "#!pip install textblob\n",
    "import nltk\n",
    "from nltk.tokenize import word_tokenize  \n",
    "from nltk.stem import WordNetLemmatizer\n",
    "from nltk.stem.snowball import SnowballStemmer\n",
    "from nltk.stem.porter import *\n",
    "import pandas as pd\n",
    "import matplotlib.pyplot as plt\n",
    "import seaborn as sns\n",
    "from textblob import TextBlob\n",
    "import re\n",
    "from nltk.corpus import stopwords\n",
    "from nltk.stem.wordnet import WordNetLemmatizer\n",
    "from sklearn.feature_extraction.text import CountVectorizer, TfidfTransformer\n",
    "from sklearn.naive_bayes import MultinomialNB\n",
    "from sklearn.model_selection import train_test_split\n",
    "from sklearn.pipeline import Pipeline\n",
    "from sklearn.metrics import confusion_matrix, classification_report,accuracy_score"
   ]
  },
  {
   "cell_type": "code",
   "execution_count": 5,
   "id": "82504631",
   "metadata": {},
   "outputs": [
    {
     "data": {
      "text/html": [
       "<div>\n",
       "<style scoped>\n",
       "    .dataframe tbody tr th:only-of-type {\n",
       "        vertical-align: middle;\n",
       "    }\n",
       "\n",
       "    .dataframe tbody tr th {\n",
       "        vertical-align: top;\n",
       "    }\n",
       "\n",
       "    .dataframe thead th {\n",
       "        text-align: right;\n",
       "    }\n",
       "</style>\n",
       "<table border=\"1\" class=\"dataframe\">\n",
       "  <thead>\n",
       "    <tr style=\"text-align: right;\">\n",
       "      <th></th>\n",
       "      <th>feedback_created_at</th>\n",
       "      <th>final_msg_join</th>\n",
       "      <th>feedback_message</th>\n",
       "    </tr>\n",
       "  </thead>\n",
       "  <tbody>\n",
       "    <tr>\n",
       "      <th>0</th>\n",
       "      <td>2017-11-10 08:00:18</td>\n",
       "      <td>top</td>\n",
       "      <td>Top</td>\n",
       "    </tr>\n",
       "    <tr>\n",
       "      <th>1</th>\n",
       "      <td>2017-11-10 08:51:40</td>\n",
       "      <td>blinker defect break delay</td>\n",
       "      <td>blinker defect, break work delayed</td>\n",
       "    </tr>\n",
       "    <tr>\n",
       "      <th>2</th>\n",
       "      <td>2017-11-10 08:43:30</td>\n",
       "      <td>app really well</td>\n",
       "      <td>App did not work really well</td>\n",
       "    </tr>\n",
       "    <tr>\n",
       "      <th>3</th>\n",
       "      <td>2017-11-10 09:51:10</td>\n",
       "      <td>ending ride first attempt start app try</td>\n",
       "      <td>Ending ride didn’t work at first attempt. I ha...</td>\n",
       "    </tr>\n",
       "    <tr>\n",
       "      <th>4</th>\n",
       "      <td>2017-11-10 10:04:59</td>\n",
       "      <td>battery keep change level dramatically</td>\n",
       "      <td>Battery kept changing its level dramatically.</td>\n",
       "    </tr>\n",
       "  </tbody>\n",
       "</table>\n",
       "</div>"
      ],
      "text/plain": [
       "   feedback_created_at                           final_msg_join  \\\n",
       "0  2017-11-10 08:00:18                                      top   \n",
       "1  2017-11-10 08:51:40               blinker defect break delay   \n",
       "2  2017-11-10 08:43:30                          app really well   \n",
       "3  2017-11-10 09:51:10  ending ride first attempt start app try   \n",
       "4  2017-11-10 10:04:59   battery keep change level dramatically   \n",
       "\n",
       "                                    feedback_message  \n",
       "0                                                Top  \n",
       "1                 blinker defect, break work delayed  \n",
       "2                      App did not work really well   \n",
       "3  Ending ride didn’t work at first attempt. I ha...  \n",
       "4     Battery kept changing its level dramatically.   "
      ]
     },
     "execution_count": 5,
     "metadata": {},
     "output_type": "execute_result"
    }
   ],
   "source": [
    "import pandas as pd\n",
    "df = pd.read_csv('data/final_df.csv')\n",
    "#print(df.to_string())\n",
    "df.head()"
   ]
  },
  {
   "cell_type": "code",
   "execution_count": 10,
   "id": "65dac8ca",
   "metadata": {},
   "outputs": [
    {
     "name": "stdout",
     "output_type": "stream",
     "text": [
      "<class 'pandas.core.frame.DataFrame'>\n",
      "RangeIndex: 12414 entries, 0 to 12413\n",
      "Data columns (total 3 columns):\n",
      " #   Column               Non-Null Count  Dtype \n",
      "---  ------               --------------  ----- \n",
      " 0   feedback_created_at  12414 non-null  object\n",
      " 1   final_msg_join       12359 non-null  object\n",
      " 2   feedback_message     12414 non-null  object\n",
      "dtypes: object(3)\n",
      "memory usage: 291.1+ KB\n"
     ]
    }
   ],
   "source": [
    "df.info()"
   ]
  },
  {
   "cell_type": "code",
   "execution_count": 11,
   "id": "d0cb3441",
   "metadata": {},
   "outputs": [],
   "source": [
    "df['Date']= pd.to_datetime(df['feedback_created_at'])"
   ]
  },
  {
   "cell_type": "code",
   "execution_count": 12,
   "id": "2e8b31f9",
   "metadata": {},
   "outputs": [
    {
     "name": "stdout",
     "output_type": "stream",
     "text": [
      "<class 'pandas.core.frame.DataFrame'>\n",
      "RangeIndex: 12414 entries, 0 to 12413\n",
      "Data columns (total 4 columns):\n",
      " #   Column               Non-Null Count  Dtype         \n",
      "---  ------               --------------  -----         \n",
      " 0   feedback_created_at  12414 non-null  object        \n",
      " 1   final_msg_join       12359 non-null  object        \n",
      " 2   feedback_message     12414 non-null  object        \n",
      " 3   Date                 12414 non-null  datetime64[ns]\n",
      "dtypes: datetime64[ns](1), object(3)\n",
      "memory usage: 388.1+ KB\n"
     ]
    }
   ],
   "source": [
    "df.info()"
   ]
  },
  {
   "cell_type": "code",
   "execution_count": 14,
   "id": "f52dd8f2",
   "metadata": {},
   "outputs": [
    {
     "data": {
      "text/html": [
       "<div>\n",
       "<style scoped>\n",
       "    .dataframe tbody tr th:only-of-type {\n",
       "        vertical-align: middle;\n",
       "    }\n",
       "\n",
       "    .dataframe tbody tr th {\n",
       "        vertical-align: top;\n",
       "    }\n",
       "\n",
       "    .dataframe thead th {\n",
       "        text-align: right;\n",
       "    }\n",
       "</style>\n",
       "<table border=\"1\" class=\"dataframe\">\n",
       "  <thead>\n",
       "    <tr style=\"text-align: right;\">\n",
       "      <th></th>\n",
       "      <th>feedback_created_at</th>\n",
       "      <th>final_msg_join</th>\n",
       "      <th>feedback_message</th>\n",
       "      <th>Date</th>\n",
       "      <th>year</th>\n",
       "    </tr>\n",
       "  </thead>\n",
       "  <tbody>\n",
       "    <tr>\n",
       "      <th>0</th>\n",
       "      <td>2017-11-10 08:00:18</td>\n",
       "      <td>top</td>\n",
       "      <td>Top</td>\n",
       "      <td>2017-11-10 08:00:18</td>\n",
       "      <td>2017</td>\n",
       "    </tr>\n",
       "    <tr>\n",
       "      <th>1</th>\n",
       "      <td>2017-11-10 08:51:40</td>\n",
       "      <td>blinker defect break delay</td>\n",
       "      <td>blinker defect, break work delayed</td>\n",
       "      <td>2017-11-10 08:51:40</td>\n",
       "      <td>2017</td>\n",
       "    </tr>\n",
       "    <tr>\n",
       "      <th>2</th>\n",
       "      <td>2017-11-10 08:43:30</td>\n",
       "      <td>app really well</td>\n",
       "      <td>App did not work really well</td>\n",
       "      <td>2017-11-10 08:43:30</td>\n",
       "      <td>2017</td>\n",
       "    </tr>\n",
       "    <tr>\n",
       "      <th>3</th>\n",
       "      <td>2017-11-10 09:51:10</td>\n",
       "      <td>ending ride first attempt start app try</td>\n",
       "      <td>Ending ride didn’t work at first attempt. I ha...</td>\n",
       "      <td>2017-11-10 09:51:10</td>\n",
       "      <td>2017</td>\n",
       "    </tr>\n",
       "    <tr>\n",
       "      <th>4</th>\n",
       "      <td>2017-11-10 10:04:59</td>\n",
       "      <td>battery keep change level dramatically</td>\n",
       "      <td>Battery kept changing its level dramatically.</td>\n",
       "      <td>2017-11-10 10:04:59</td>\n",
       "      <td>2017</td>\n",
       "    </tr>\n",
       "  </tbody>\n",
       "</table>\n",
       "</div>"
      ],
      "text/plain": [
       "   feedback_created_at                           final_msg_join  \\\n",
       "0  2017-11-10 08:00:18                                      top   \n",
       "1  2017-11-10 08:51:40               blinker defect break delay   \n",
       "2  2017-11-10 08:43:30                          app really well   \n",
       "3  2017-11-10 09:51:10  ending ride first attempt start app try   \n",
       "4  2017-11-10 10:04:59   battery keep change level dramatically   \n",
       "\n",
       "                                    feedback_message                Date  year  \n",
       "0                                                Top 2017-11-10 08:00:18  2017  \n",
       "1                 blinker defect, break work delayed 2017-11-10 08:51:40  2017  \n",
       "2                      App did not work really well  2017-11-10 08:43:30  2017  \n",
       "3  Ending ride didn’t work at first attempt. I ha... 2017-11-10 09:51:10  2017  \n",
       "4     Battery kept changing its level dramatically.  2017-11-10 10:04:59  2017  "
      ]
     },
     "execution_count": 14,
     "metadata": {},
     "output_type": "execute_result"
    }
   ],
   "source": [
    "df['year'] = pd.DatetimeIndex(df['Date']).year\n",
    "df.head()"
   ]
  },
  {
   "cell_type": "code",
   "execution_count": 17,
   "id": "863d806e",
   "metadata": {},
   "outputs": [
    {
     "data": {
      "text/plain": [
       "<AxesSubplot:xlabel='year'>"
      ]
     },
     "execution_count": 17,
     "metadata": {},
     "output_type": "execute_result"
    },
    {
     "data": {
      "image/png": "[encoded data removed]",
      "text/plain": [
       "<Figure size 432x288 with 1 Axes>"
      ]
     },
     "metadata": {
      "needs_background": "light"
     },
     "output_type": "display_data"
    }
   ],
   "source": [
    "%matplotlib inline\n",
    "df.groupby('year').agg({'final_msg_join': 'count'}).plot.bar()"
   ]
  }
 ],
 "metadata": {
  "kernelspec": {
   "display_name": "Python (ML)",
   "language": "python",
   "name": "ml"
  },
  "language_info": {
   "codemirror_mode": {
    "name": "ipython",
    "version": 3
   },
   "file_extension": ".py",
   "mimetype": "text/x-python",
   "name": "python",
   "nbconvert_exporter": "python",
   "pygments_lexer": "ipython3",
   "version": "3.8.8"
  }
 },
 "nbformat": 4,
 "nbformat_minor": 5
}
